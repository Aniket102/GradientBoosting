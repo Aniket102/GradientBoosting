{
 "cells": [
  {
   "cell_type": "code",
   "execution_count": 1,
   "id": "f365ec25",
   "metadata": {},
   "outputs": [],
   "source": [
    "import pandas as pd\n",
    "from sklearn.preprocessing import MinMaxScaler\n",
    "from sklearn.model_selection import train_test_split\n",
    "from sklearn.metrics import classification_report, confusion_matrix\n",
    "from sklearn.ensemble import GradientBoostingClassifier"
   ]
  },
  {
   "cell_type": "code",
   "execution_count": 2,
   "id": "442c504b",
   "metadata": {},
   "outputs": [],
   "source": [
    "train_data = pd.read_csv(\"train.csv\")\n",
    "test_data = pd.read_csv(\"test.csv\")"
   ]
  },
  {
   "cell_type": "code",
   "execution_count": 3,
   "id": "1d744484",
   "metadata": {},
   "outputs": [],
   "source": [
    "y_train = train_data[\"Survived\"]\n",
    "train_data.drop(labels=\"Survived\", axis=1, inplace=True)"
   ]
  },
  {
   "cell_type": "code",
   "execution_count": 4,
   "id": "48670506",
   "metadata": {},
   "outputs": [],
   "source": [
    "full_data = train_data.append(test_data)"
   ]
  },
  {
   "cell_type": "code",
   "execution_count": 6,
   "id": "5ae8fbc0",
   "metadata": {},
   "outputs": [],
   "source": [
    "drop_columns = [\"Name\", \"Age\", \"SibSp\", \"Ticket\", \"Cabin\", \"Parch\", \"Embarked\"]\n",
    "full_data.drop(labels=drop_columns, axis=1, inplace=True)"
   ]
  },
  {
   "cell_type": "code",
   "execution_count": 7,
   "id": "cf6792ca",
   "metadata": {},
   "outputs": [],
   "source": [
    "full_data = pd.get_dummies(full_data, columns=[\"Sex\"])\n",
    "full_data.fillna(value=0.0, inplace=True)"
   ]
  },
  {
   "cell_type": "code",
   "execution_count": 8,
   "id": "883da9b9",
   "metadata": {},
   "outputs": [],
   "source": [
    "X_train = full_data.values[0:891]\n",
    "X_test = full_data.values[891:]"
   ]
  },
  {
   "cell_type": "code",
   "execution_count": 9,
   "id": "a2ec645d",
   "metadata": {},
   "outputs": [],
   "source": [
    "scaler = MinMaxScaler()\n",
    "X_train = scaler.fit_transform(X_train)\n",
    "X_test = scaler.transform(X_test)"
   ]
  },
  {
   "cell_type": "code",
   "execution_count": 10,
   "id": "e7632f07",
   "metadata": {},
   "outputs": [],
   "source": [
    "X_train, X_val, y_train, y_val = train_test_split(X_train, y_train,  \n",
    "    test_size=0.30, random_state=101)"
   ]
  },
  {
   "cell_type": "code",
   "execution_count": 13,
   "id": "1d551e4b",
   "metadata": {},
   "outputs": [],
   "source": [
    "from sklearn.model_selection import GridSearchCV\n",
    "from sklearn.metrics import accuracy_score"
   ]
  },
  {
   "cell_type": "code",
   "execution_count": 15,
   "id": "40e1276f",
   "metadata": {},
   "outputs": [],
   "source": [
    "gradientclassifieror=GradientBoostingClassifier()"
   ]
  },
  {
   "cell_type": "code",
   "execution_count": 17,
   "id": "32f30e81",
   "metadata": {},
   "outputs": [
    {
     "data": {
      "text/plain": [
       "({'learning_rate': 0.05, 'n_estimators': 150}, 0.8074193548387096)"
      ]
     },
     "execution_count": 17,
     "metadata": {},
     "output_type": "execute_result"
    }
   ],
   "source": [
    "LR={'learning_rate':[0.15,0.10,0.5,0.05,0.01,0.005,0.001],'n_estimators':[50,100,150,400,500,600]}\n",
    "tuning =GridSearchCV(estimator=GradientBoostingClassifier(),param_grid=LR,scoring='accuracy')\n",
    "tuning.fit(X_train,y_train)\n",
    "tuning.best_params_,tuning.best_score_"
   ]
  },
  {
   "cell_type": "code",
   "execution_count": 152,
   "id": "2c51f489",
   "metadata": {},
   "outputs": [],
   "source": [
    "gradientclassifier=GradientBoostingClassifier(max_depth=8,n_estimators=150,learning_rate=0.05,max_features='sqrt',min_samples_split= 0.18)"
   ]
  },
  {
   "cell_type": "code",
   "execution_count": 153,
   "id": "626ade95",
   "metadata": {},
   "outputs": [],
   "source": [
    "model =gradientclassifier.fit(X_train,y_train)\n",
    "y_pred=model.predict(X_val)\n"
   ]
  },
  {
   "cell_type": "code",
   "execution_count": 154,
   "id": "dda008af",
   "metadata": {},
   "outputs": [
    {
     "data": {
      "text/plain": [
       "0.9036918138041734"
      ]
     },
     "execution_count": 154,
     "metadata": {},
     "output_type": "execute_result"
    }
   ],
   "source": [
    "model.score(X_train, y_train)\n"
   ]
  },
  {
   "cell_type": "code",
   "execution_count": 155,
   "id": "e65eb1ec",
   "metadata": {},
   "outputs": [
    {
     "data": {
      "text/plain": [
       "0.8171641791044776"
      ]
     },
     "execution_count": 155,
     "metadata": {},
     "output_type": "execute_result"
    }
   ],
   "source": [
    "model.score(X_val, y_val)\n"
   ]
  },
  {
   "cell_type": "code",
   "execution_count": 27,
   "id": "58168347",
   "metadata": {},
   "outputs": [
    {
     "data": {
      "text/plain": [
       "0.8059701492537313"
      ]
     },
     "execution_count": 27,
     "metadata": {},
     "output_type": "execute_result"
    }
   ],
   "source": [
    "y_pred=model.predict(X_val)\n",
    "accuracy_score(y_val, y_pred)"
   ]
  },
  {
   "cell_type": "code",
   "execution_count": 157,
   "id": "2761706b",
   "metadata": {},
   "outputs": [
    {
     "name": "stdout",
     "output_type": "stream",
     "text": [
      "Confusion Matrix:\n",
      "[[144  10]\n",
      " [ 39  75]]\n",
      "Classification Report\n",
      "              precision    recall  f1-score   support\n",
      "\n",
      "           0       0.79      0.94      0.85       154\n",
      "           1       0.88      0.66      0.75       114\n",
      "\n",
      "    accuracy                           0.82       268\n",
      "   macro avg       0.83      0.80      0.80       268\n",
      "weighted avg       0.83      0.82      0.81       268\n",
      "\n"
     ]
    }
   ],
   "source": [
    "print(\"Confusion Matrix:\")\n",
    "print(confusion_matrix(y_val,y_pred))\n",
    "\n",
    "print(\"Classification Report\")\n",
    "print(classification_report(y_val,y_pred))"
   ]
  },
  {
   "cell_type": "code",
   "execution_count": 158,
   "id": "4bda97c4",
   "metadata": {},
   "outputs": [],
   "source": [
    "import pickle\n"
   ]
  },
  {
   "cell_type": "code",
   "execution_count": 160,
   "id": "c9b66599",
   "metadata": {},
   "outputs": [],
   "source": [
    "Pkl_Filename = \"Titanic_Survival.pkl\"  \n",
    "\n",
    "with open(Pkl_Filename, 'wb') as file:  \n",
    "    pickle.dump(model, file)\n"
   ]
  },
  {
   "cell_type": "code",
   "execution_count": null,
   "id": "85731c4e",
   "metadata": {},
   "outputs": [],
   "source": []
  }
 ],
 "metadata": {
  "kernelspec": {
   "display_name": "Python 3",
   "language": "python",
   "name": "python3"
  },
  "language_info": {
   "codemirror_mode": {
    "name": "ipython",
    "version": 3
   },
   "file_extension": ".py",
   "mimetype": "text/x-python",
   "name": "python",
   "nbconvert_exporter": "python",
   "pygments_lexer": "ipython3",
   "version": "3.8.8"
  }
 },
 "nbformat": 4,
 "nbformat_minor": 5
}
